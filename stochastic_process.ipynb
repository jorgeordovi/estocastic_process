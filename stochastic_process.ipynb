{
 "cells": [
  {
   "cell_type": "markdown",
   "metadata": {},
   "source": [
    "# Aleatory process give certain probabilitites"
   ]
  },
  {
   "cell_type": "markdown",
   "metadata": {},
   "source": [
    "## Collection of indexed random variables indexed through time. Subject to probable changes"
   ]
  },
  {
   "cell_type": "markdown",
   "metadata": {},
   "source": [
    "### Brownian Movement: \n",
    "\n",
    "Describes the random movement in fluid particles. Observed by Robert Brown"
   ]
  },
  {
   "cell_type": "markdown",
   "metadata": {},
   "source": [
    "### Finacial Market stocks: \n",
    "\n",
    "Madel that describe how the syck market shares fluctuate unpredictably given certain  economic factors and news"
   ]
  },
  {
   "cell_type": "markdown",
   "metadata": {},
   "source": [
    "### Tail Theory - Tail Models\n",
    "\n",
    "Applied to analyze movements in waiting lines, like hospitals , banks, financial centers"
   ]
  },
  {
   "cell_type": "markdown",
   "metadata": {},
   "source": [
    "---------------------------------------------------------------------------------------------------------------------------------------------------------------"
   ]
  },
  {
   "cell_type": "markdown",
   "metadata": {},
   "source": [
    "## Characteristics\n",
    "\n",
    "### Randomness\n",
    "\n",
    "- The evolution of the system is umpredictable depends on probabilistic factors\n",
    "\n",
    "\n",
    "### Temporal or Spacial Dependence\n",
    "\n",
    "- The random values are indexed in time space funtions, their behavior may depend on themoment and place they are observed\n",
    "\n",
    "\n",
    "### Stationarity \n",
    "\n",
    "- A stochastic process is stationary if their statistic properties don´t   change with time\n",
    "\n",
    "\n",
    "### Markovianity\n",
    "\n",
    "- A process is markovian if the probability of a future state depends solely on the actual state and not it´s past\n",
    "\n",
    "\n",
    "### Continuity\n",
    "\n",
    "- The stochastic procecess might be discreet (changes in specific intervals) or continuos (changes in ANY piunt in time or space)"
   ]
  },
  {
   "cell_type": "markdown",
   "metadata": {},
   "source": [
    "-------------------------------------------------------------------"
   ]
  },
  {
   "cell_type": "markdown",
   "metadata": {},
   "source": [
    "## Markovian Chain \n",
    "\n",
    "- Is a type of stochastic process where probabilty of movement to a new state depends solely from the actual state and not from the sequence of previous states. This property is also known as Markov property\n",
    "\n",
    "### - Weather Forecast\n",
    "\n",
    "    - Predicting next day weather based on current state. Ie - Today is sunny, the probability of tomorrow being sunny or rainy de depends only on todays weather\n",
    "\n",
    "\n",
    "### - Bussiness Models\n",
    "\n",
    "    - Analizing customer loyalty , where the actual state might represent if a custoomer is loyal. potentialy loyal or NOT loyal, the transitions represent changes in customer loyalty"
   ]
  },
  {
   "cell_type": "markdown",
   "metadata": {},
   "source": [
    "## Formalization"
   ]
  },
  {
   "cell_type": "markdown",
   "metadata": {},
   "source": [
    "For a chainof Markov with states $ S_1,S_2,\\dots,S_n $ the probability of transition from $ S_i $ to s state $ S_j $ in a single step is noted as $ P_{ij} $.\n",
    "\n",
    "- this probabilities are organized in a matrix transition P:\n"
   ]
  },
  {
   "cell_type": "markdown",
   "metadata": {},
   "source": [
    "\\begin{aligned}\n",
    "\\mathbf{P}\n",
    "&=\n",
    "\\begin{pmatrix}\n",
    "P_{11} & P_{12} & \\cdots & P_n \\\\\n",
    "P_{21} & P_{22} & \\cdots & P_{2n} \\\\\n",
    "\\vdots & \\vdots & \\ddots & \\vdots \\\\\n",
    "P_{n1} & P_{2n} & \\cdots & P_{nn} \\\\\n",
    "\\end{pmatrix}\n",
    "\\end{aligned}"
   ]
  },
  {
   "cell_type": "markdown",
   "metadata": {},
   "source": [
    "   ### Examples \n",
    "\n",
    "    - Weather Models\n",
    "    - Games of chance"
   ]
  },
  {
   "cell_type": "markdown",
   "metadata": {},
   "source": [
    "## Forcasting positive balance in a checking account"
   ]
  },
  {
   "cell_type": "code",
   "execution_count": 3,
   "metadata": {},
   "outputs": [],
   "source": [
    "import numpy as np\n",
    "\n",
    "P = np.array([[0.8,0.2],\n",
    "             [0.3,0.7]])"
   ]
  },
  {
   "cell_type": "code",
   "execution_count": 4,
   "metadata": {},
   "outputs": [],
   "source": [
    "estado_inicial=np.array([1,0])"
   ]
  },
  {
   "cell_type": "code",
   "execution_count": 5,
   "metadata": {},
   "outputs": [
    {
     "data": {
      "text/plain": [
       "array([0.7, 0.3])"
      ]
     },
     "execution_count": 5,
     "metadata": {},
     "output_type": "execute_result"
    }
   ],
   "source": [
    "estado_dia_1=np.dot(estado_inicial,P)\n",
    "\n",
    "estado_dia_2=np.dot(estado_dia_1,P)\n",
    "\n",
    "estado_dia_2"
   ]
  },
  {
   "cell_type": "code",
   "execution_count": 6,
   "metadata": {},
   "outputs": [],
   "source": [
    "P_saldo_negativo_dia_2=estado_dia_2[1]"
   ]
  },
  {
   "cell_type": "code",
   "execution_count": 7,
   "metadata": {},
   "outputs": [
    {
     "data": {
      "text/plain": [
       "0.30000000000000004"
      ]
     },
     "execution_count": 7,
     "metadata": {},
     "output_type": "execute_result"
    }
   ],
   "source": [
    "P_saldo_negativo_dia_2"
   ]
  },
  {
   "cell_type": "code",
   "execution_count": null,
   "metadata": {},
   "outputs": [],
   "source": []
  }
 ],
 "metadata": {
  "kernelspec": {
   "display_name": "Python 3 (ipykernel)",
   "language": "python",
   "name": "python3"
  },
  "language_info": {
   "codemirror_mode": {
    "name": "ipython",
    "version": 3
   },
   "file_extension": ".py",
   "mimetype": "text/x-python",
   "name": "python",
   "nbconvert_exporter": "python",
   "pygments_lexer": "ipython3",
   "version": "3.10.9"
  }
 },
 "nbformat": 4,
 "nbformat_minor": 2
}
